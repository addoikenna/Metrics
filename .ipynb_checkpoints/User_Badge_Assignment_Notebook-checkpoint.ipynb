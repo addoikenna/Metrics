{
 "cells": [
  {
   "cell_type": "markdown",
   "id": "bec860e2",
   "metadata": {},
   "source": [
    "# User Badge Assignment Based on Activity"
   ]
  },
  {
   "cell_type": "markdown",
   "id": "dbfb9dfd",
   "metadata": {},
   "source": [
    "## Prepare Data\n",
    "### Import"
   ]
  },
  {
   "cell_type": "code",
   "execution_count": null,
   "id": "d5925d92",
   "metadata": {},
   "outputs": [],
   "source": [
    "import pandas as pd\n",
    "import numpy as np\n",
    "import matplotlib.pyplot as plt\n",
    "import seaborn as sns\n",
    "from sklearn.preprocessing import StandardScaler\n",
    "from sklearn.cluster import KMeans\n",
    "from sklearn.metrics import silhouette_score, davies_bouldin_score\n",
    "from sklearn.decomposition import PCA\n",
    "\n",
    "# Load data\n",
    "file_path = '/mnt/data/Badge_Data.csv'\n",
    "data = pd.read_csv(file_path)"
   ]
  },
  {
   "cell_type": "markdown",
   "id": "c76e0ec8",
   "metadata": {},
   "source": [
    "### Explore"
   ]
  },
  {
   "cell_type": "code",
   "execution_count": null,
   "id": "a9d42241",
   "metadata": {},
   "outputs": [],
   "source": [
    "data.info()\n",
    "data.describe()"
   ]
  },
  {
   "cell_type": "markdown",
   "id": "d8c0cd3e",
   "metadata": {},
   "source": [
    "### Visualizations"
   ]
  },
  {
   "cell_type": "code",
   "execution_count": null,
   "id": "2bec5b4e",
   "metadata": {},
   "outputs": [],
   "source": [
    "plt.figure(figsize=(12, 6))\n",
    "plt.subplot(2, 2, 1)\n",
    "sns.histplot(data['modules_completed'], kde=True)\n",
    "plt.title('Distribution of Modules Completed')\n",
    "\n",
    "plt.subplot(2, 2, 2)\n",
    "sns.histplot(data['modeule_frequency'], kde=True)\n",
    "plt.title('Distribution of Module Frequency')\n",
    "\n",
    "plt.subplot(2, 2, 3)\n",
    "sns.histplot(data['quizzes_completed'], kde=True)\n",
    "plt.title('Distribution of Quizzes Completed')\n",
    "\n",
    "plt.subplot(2, 2, 4)\n",
    "sns.histplot(data['quizzes_frequency'], kde=True)\n",
    "plt.title('Distribution of Quizzes Frequency')\n",
    "\n",
    "plt.tight_layout()\n",
    "plt.show()"
   ]
  },
  {
   "cell_type": "markdown",
   "id": "29306e1d",
   "metadata": {},
   "source": [
    "## Build Model\n",
    "### Scale Data"
   ]
  },
  {
   "cell_type": "code",
   "execution_count": null,
   "id": "bda89e42",
   "metadata": {},
   "outputs": [],
   "source": [
    "scaler = StandardScaler()\n",
    "scaled_data = scaler.fit_transform(data[['modules_completed', 'modeule_frequency', 'quizzes_completed', 'quizzes_frequency']])"
   ]
  },
  {
   "cell_type": "markdown",
   "id": "b7b38c25",
   "metadata": {},
   "source": [
    "### Features"
   ]
  },
  {
   "cell_type": "code",
   "execution_count": null,
   "id": "1577cc99",
   "metadata": {},
   "outputs": [],
   "source": [
    "X = scaled_data"
   ]
  },
  {
   "cell_type": "markdown",
   "id": "9a88a252",
   "metadata": {},
   "source": [
    "### Instantiate Model"
   ]
  },
  {
   "cell_type": "code",
   "execution_count": null,
   "id": "0035f475",
   "metadata": {},
   "outputs": [],
   "source": [
    "kmeans = KMeans(n_clusters=4, random_state=42)"
   ]
  },
  {
   "cell_type": "markdown",
   "id": "7236318d",
   "metadata": {},
   "source": [
    "### Train Model"
   ]
  },
  {
   "cell_type": "code",
   "execution_count": null,
   "id": "e8f2f9a2",
   "metadata": {},
   "outputs": [],
   "source": [
    "kmeans.fit(X)"
   ]
  },
  {
   "cell_type": "markdown",
   "id": "b80244c0",
   "metadata": {},
   "source": [
    "### Evaluate Model"
   ]
  },
  {
   "cell_type": "code",
   "execution_count": null,
   "id": "c1e0ff5b",
   "metadata": {},
   "outputs": [],
   "source": [
    "labels = kmeans.labels_\n",
    "sil_score = silhouette_score(X, labels)\n",
    "dbs_score = davies_bouldin_score(X, labels)\n",
    "\n",
    "print(f'Silhouette Score: {sil_score}')\n",
    "print(f'Davies-Bouldin Score: {dbs_score}')"
   ]
  },
  {
   "cell_type": "markdown",
   "id": "760b7735",
   "metadata": {},
   "source": [
    "### PCA Dimensional Reduction"
   ]
  },
  {
   "cell_type": "code",
   "execution_count": null,
   "id": "16ca4835",
   "metadata": {},
   "outputs": [],
   "source": [
    "pca = PCA(n_components=2)\n",
    "pca_components = pca.fit_transform(X)"
   ]
  },
  {
   "cell_type": "markdown",
   "id": "636f9d82",
   "metadata": {},
   "source": [
    "### Visualise Clusters"
   ]
  },
  {
   "cell_type": "code",
   "execution_count": null,
   "id": "91c38f28",
   "metadata": {},
   "outputs": [],
   "source": [
    "plt.figure(figsize=(10, 6))\n",
    "plt.scatter(pca_components[:, 0], pca_components[:, 1], c=labels, cmap='viridis')\n",
    "plt.title('Clusters Visualization with PCA')\n",
    "plt.xlabel('PCA Component 1')\n",
    "plt.ylabel('PCA Component 2')\n",
    "plt.colorbar()\n",
    "plt.show()"
   ]
  },
  {
   "cell_type": "markdown",
   "id": "38932abc",
   "metadata": {},
   "source": [
    "## Final Table"
   ]
  },
  {
   "cell_type": "code",
   "execution_count": null,
   "id": "4f361bf5",
   "metadata": {},
   "outputs": [],
   "source": [
    "# Map clusters to badges\n",
    "badges = {0: 'Platinum', 1: 'Gold', 2: 'Silver', 3: 'Bronze'}\n",
    "data['badge'] = labels.map(badges)\n",
    "\n",
    "# Add badges as a column to the original df\n",
    "data.head()"
   ]
  },
  {
   "cell_type": "markdown",
   "id": "7b7031a6",
   "metadata": {},
   "source": [
    "## Conclusion"
   ]
  },
  {
   "cell_type": "markdown",
   "id": "27c76b84",
   "metadata": {},
   "source": [
    "\n",
    "Observation:\n",
    "- The clustering algorithm grouped users based on their activity in terms of module completion, module frequency, quizzes completed, and quizzes frequency.\n",
    "- The Silhouette Score and Davies-Bouldin Score indicate the quality of the clusters.\n",
    "\n",
    "Challenges:\n",
    "- Choosing the optimal number of clusters was challenging and may require further tuning.\n",
    "- The clustering is sensitive to the scale of the features, hence scaling was crucial.\n",
    "\n",
    "Further Work:\n",
    "- Experiment with different clustering algorithms such as DBSCAN or hierarchical clustering.\n",
    "- Analyze the clusters further to understand user behaviors and improve the badge assignment system.\n"
   ]
  }
 ],
 "metadata": {},
 "nbformat": 4,
 "nbformat_minor": 5
}
